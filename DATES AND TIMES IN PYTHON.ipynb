{
 "cells": [
  {
   "cell_type": "markdown",
   "metadata": {},
   "source": [
    "# **WORKING WITH DATES AND TIMES IN PYTHON**\n",
    "\n",
    "- In Python, it is necessary to understand how to analyse and sort dates and times especially in complex situations. Most date/time information include:\n",
    "\n",
    "    - Weather information\n",
    "    \n",
    "    - Computer Logs of timestamps\n",
    "    \n",
    "    - Sales data including the date/time range\n",
    "    \n",
    "    \n",
    "- In subsequent tasks and as you progress in your learning in Python, you would be working with more complex dates. You would work with complex time/date format such as:\n",
    "\n",
    "    - A date formatted as February 2, 1998\n",
    "    \n",
    "    - 24-hour or 12 hour time structures\n",
    "    \n",
    "    - Addition and subtraction across date/time boundaries.\n",
    "    \n",
    "    \n",
    "- There is a functionality in Python that allows us to execute all the operations regardless of how complex they might appear.\n",
    "\n",
    "\n",
    "- For this lesson, we would be making use of the archives containing the [records of visitors](https://raw.githubusercontent.com/Tess-hacker/WORKING-WITH-COMPLEX-DATE-TIME-DATASET-IN-PYTHON/master/potus_visitors_2015.csv) who were at the White House and met with the President in the year 2015. The purpose of this record is to document all appointments for all White House visitors excluding staff members and people not categorized as visitors.\n",
    "\n",
    "\n",
    "- The following details are available - an explanation of the columns - for you to understand the dataset:\n",
    "\n",
    "    - *name*: The name of the visitor.\n",
    "\n",
    "    - *appt_made_date*: The date and time that the appointment was created.\n",
    "    \n",
    "    - *appt_start_date*: The date and time that the appointment was scheduled to start.\n",
    "\n",
    "    - *appt_end_date*: The date and time that the appointment was scheduled to end.\n",
    "    \n",
    "    - *visitee_namelast*: The last name of the visitee (the person the visitor was meeting with).\n",
    "    \n",
    "    - *visitee_namefirst*: The first name of the visitee.\n",
    "    \n",
    "    - *meeting_room*: The room in which the appointment was scheduled.\n",
    "\n",
    "    - *description*: Optional comments added by the WAVES operator.\n",
    "    \n",
    "- **WAVES** means the **Workers and Visitors Entry System** used for scheduling appointments for all White House Visitors.\n",
    "\n",
    "\n",
    "## **LEARNING OBJECTIVES**\n",
    "\n",
    "\n",
    "- At the end of this lesson, we would have learnt:\n",
    "\n",
    "    - How to calculate the month in which the White House had the most visitors.\n",
    "    \n",
    "    - How to calculate the time of the day during the year the White House was visited the most.\n",
    "    \n",
    "    - How to calculate the summary statistics on **visit length** and **how early visits were booked ahead of time**.\n",
    "    \n",
    "    - How to create a clean and well-formatted summary of daily visits during the year.\n",
    "    \n",
    "    \n",
    "- Ready? LET'S HAVE FUN!"
   ]
  },
  {
   "cell_type": "code",
   "execution_count": 1,
   "metadata": {},
   "outputs": [
    {
     "name": "stdout",
     "output_type": "stream",
     "text": [
      "                     name       appt_made_date appt_start_date appt_end_date  \\\n",
      "0       Joshua T. Blanton  2014-12-18T00:00:00     1/6/15 9:30  1/6/15 23:59   \n",
      "1         Jack T. Gutting  2014-12-18T00:00:00     1/6/15 9:30  1/6/15 23:59   \n",
      "2       Bradley T. Guiles  2014-12-18T00:00:00     1/6/15 9:30  1/6/15 23:59   \n",
      "3          Loryn F. Grieb  2014-12-18T00:00:00     1/6/15 9:30  1/6/15 23:59   \n",
      "4        Travis D. Gordon  2014-12-18T00:00:00     1/6/15 9:30  1/6/15 23:59   \n",
      "5         Taylor D. Gibbs  2014-12-18T00:00:00     1/6/15 9:30  1/6/15 23:59   \n",
      "6       Dameriah A. Smith  2014-12-18T00:00:00     1/6/15 9:30  1/6/15 23:59   \n",
      "7  Dylan S. Hopkinstaylor  2014-12-18T00:00:00     1/6/15 9:30  1/6/15 23:59   \n",
      "8      Joseph S. Barbaria  2014-12-18T00:00:00     1/6/15 9:30  1/6/15 23:59   \n",
      "9    Jonathan L. Buckland  2014-12-18T00:00:00     1/6/15 9:30  1/6/15 23:59   \n",
      "\n",
      "  visitee_namelast visitee_namefirst meeting_room  \\\n",
      "0              NaN             potus    west wing   \n",
      "1              NaN             potus    west wing   \n",
      "2              NaN             potus    west wing   \n",
      "3              NaN             potus    west wing   \n",
      "4              NaN             potus    west wing   \n",
      "5              NaN             potus    west wing   \n",
      "6              NaN             potus    west wing   \n",
      "7              NaN             potus    west wing   \n",
      "8              NaN             potus    west wing   \n",
      "9              NaN             potus    west wing   \n",
      "\n",
      "                         description  \n",
      "0  JointService Military Honor Guard  \n",
      "1  JointService Military Honor Guard  \n",
      "2  JointService Military Honor Guard  \n",
      "3  JointService Military Honor Guard  \n",
      "4  JointService Military Honor Guard  \n",
      "5  JointService Military Honor Guard  \n",
      "6  JointService Military Honor Guard  \n",
      "7  JointService Military Honor Guard  \n",
      "8  JointService Military Honor Guard  \n",
      "9  JointService Military Honor Guard  \n"
     ]
    }
   ],
   "source": [
    "# The first step is to import our dataset using the csv function\n",
    "# this method is for those using the raw dataset on github\n",
    "import csv\n",
    "from csv import reader\n",
    "import numpy as np\n",
    "import pandas as pd\n",
    "from pandas import Series, DataFrame\n",
    "url = 'https://raw.githubusercontent.com/Tess-hacker/WORKING-WITH-COMPLEX-DATE-TIME-DATASET-IN-PYTHON/master/potus_visitors_2015.csv'\n",
    "potus_csv = pd.read_csv(url,sep = ',', error_bad_lines=False)\n",
    "# print (potus[1:10])\n",
    "print (potus_csv[:10])\n"
   ]
  },
  {
   "cell_type": "code",
   "execution_count": 2,
   "metadata": {},
   "outputs": [
    {
     "name": "stdout",
     "output_type": "stream",
     "text": [
      "[['Joshua T. Blanton', '2014-12-18T00:00:00', '1/6/15 9:30', '1/6/15 23:59', '', 'potus', 'west wing', 'JointService Military Honor Guard'], ['Jack T. Gutting', '2014-12-18T00:00:00', '1/6/15 9:30', '1/6/15 23:59', '', 'potus', 'west wing', 'JointService Military Honor Guard'], ['Bradley T. Guiles', '2014-12-18T00:00:00', '1/6/15 9:30', '1/6/15 23:59', '', 'potus', 'west wing', 'JointService Military Honor Guard'], ['Loryn F. Grieb', '2014-12-18T00:00:00', '1/6/15 9:30', '1/6/15 23:59', '', 'potus', 'west wing', 'JointService Military Honor Guard'], ['Travis D. Gordon', '2014-12-18T00:00:00', '1/6/15 9:30', '1/6/15 23:59', '', 'potus', 'west wing', 'JointService Military Honor Guard'], ['Taylor D. Gibbs', '2014-12-18T00:00:00', '1/6/15 9:30', '1/6/15 23:59', '', 'potus', 'west wing', 'JointService Military Honor Guard'], ['Dameriah A. Smith', '2014-12-18T00:00:00', '1/6/15 9:30', '1/6/15 23:59', '', 'potus', 'west wing', 'JointService Military Honor Guard'], ['Dylan S. Hopkinstaylor', '2014-12-18T00:00:00', '1/6/15 9:30', '1/6/15 23:59', '', 'potus', 'west wing', 'JointService Military Honor Guard'], ['Joseph S. Barbaria', '2014-12-18T00:00:00', '1/6/15 9:30', '1/6/15 23:59', '', 'potus', 'west wing', 'JointService Military Honor Guard'], ['Jonathan L. Buckland', '2014-12-18T00:00:00', '1/6/15 9:30', '1/6/15 23:59', '', 'potus', 'west wing', 'JointService Military Honor Guard']]\n"
     ]
    }
   ],
   "source": [
    "#this is the method applicable if you have the dataset available on your computer. I'll be referring to this import subsequently.\n",
    "from csv import reader\n",
    "import numpy as np\n",
    "import pandas as pd\n",
    "from pandas import Series, DataFrame\n",
    "import unicodecsv as csv\n",
    "opened_file = open(r'potus_visitors_2015.csv', 'r', encoding='utf-8')\n",
    "read_file = reader(opened_file)\n",
    "potus =list(read_file)\n",
    "potus= potus[1:] #we have eliminated the header\n",
    "print (potus[:10])"
   ]
  },
  {
   "cell_type": "markdown",
   "metadata": {},
   "source": [
    "- In Python, to make use of a module, we have to import them into our workspace. A module or package simply contains variables, functions and classes that can be imported into a Python script.\n",
    "\n",
    "\n",
    "- There are several ways through which we can import these modules into our Python script. Let's examine them below:\n",
    "\n",
    "    -   **By Name**: We can import modules using their names. This is, by far, the most commonly used method for importing modules. This is shown as follows:\n",
    "    \n",
    "         `import csv`\n",
    "        \n",
    "         `csv.reader`\n",
    "         \n",
    "         \n",
    "-   **Import by Alias**: We can import a whole module using an alias. This is also a very common method of importing modules in Python. This is shown as:\n",
    "\n",
    "    `import pandas as pd`\n",
    "\n",
    "    `import numpy as np`\n",
    "\n",
    "\n",
    "\n",
    "-   **Import Definitions from Module by Name**: This is the approach of importing definitions from a module by specifying the name of the definition we want.\n",
    "    \n",
    "    `from pandas import Series, DataFrame` - multiple definitions\n",
    "        \n",
    "    `from csv import reader` - single definition\n",
    "\n",
    "\n",
    "\n",
    "-   **Import all Definitions using a Wildcard**: In the case where you need to use as many definitions as possible contained within a module, this is a very efficient approach. It is done as follows:\n",
    "    \n",
    "     `from csv import *`\n",
    "        \n",
    "     `reader()`\n",
    "        \n",
    "     `writer()`\n",
    "        \n",
    "     `get_dialect()`\n",
    "     \n",
    "     \n",
    "- Critical attention should be paid to the fact that all the methods of importing modules specified above have their upside(s) and downside(s). We need to understand the purpose of each and every approach and the effect it would have on our codes' readability before we employ any of the approaches.\n",
    "\n",
    "    - If we're importing a long-name module by its name and using it often, our code can become harder to read.\n",
    "\n",
    "    - If we use an uncommon alias, it may not be clear in our code which module we are using.\n",
    "    \n",
    "    - If we use the specific definition or wildcard approach, and the script is long or complex, it may not be immediately clear where a definition comes from. This can also be a problem if we use this approach with multiple modules.\n",
    "\n",
    "    - If we use the specific definition or wildcard approach, it's easier to accidentally overwrite an imported definition.\n",
    "    \n",
    "\n",
    "\n",
    "- Therefore, it is important that you choose wisely before you embark on any of the approaches."
   ]
  },
  {
   "cell_type": "markdown",
   "metadata": {},
   "source": [
    "## **PYTHON DATETIME MODULE**\n",
    "\n",
    "- The `datetime()` module in Python is used to work with relevant datasets - involving complex time and date exercises. The module contains several classes specifically:\n",
    "\n",
    "   `datetime.datetime` - This class is used for working with both **date and time data**.\n",
    "    \n",
    "    \n",
    "   `datetime.time` - This class is used when we are working with **time-related data only**.\n",
    "    \n",
    "    \n",
    "   `datetime.timedelta` - This is the class used when we are **representing time periods** within our dataset.\n",
    "   \n",
    "   \n",
    "- We can go ahead and choose the way to import the `datetime` module as well as the definition that would be needed for analysing our dataset.\n",
    "\n",
    "\n",
    "- The `datetime.datetime` function is the most commonly used class from the `datetime` module because of its capability and diversity. In this function, there are **six arguments** namely (in order of structure):\n",
    "\n",
    "    - Year (required)\n",
    "    \n",
    "    - Month (required)\n",
    "    \n",
    "    - Day (required)\n",
    "    \n",
    "    - Hour (Optional)\n",
    "    \n",
    "    - Minute (Optional)\n",
    "    \n",
    "    - Second (Optional)\n",
    "    \n",
    "    \n",
    "- Let us put the function to good use by applying it below:"
   ]
  },
  {
   "cell_type": "code",
   "execution_count": 3,
   "metadata": {},
   "outputs": [
    {
     "name": "stdout",
     "output_type": "stream",
     "text": [
      "1911-06-16 00:00:00\n",
      "\n",
      "\n",
      "1969-07-20 20:17:00\n"
     ]
    }
   ],
   "source": [
    "import datetime as dt #using the alias import method\n",
    "ibm_founded = dt.datetime(1911, 6, 16)\n",
    "man_on_moon = dt.datetime(1969, 7, 20, 20, 17)\n",
    "print (ibm_founded)\n",
    "print ('\\n')\n",
    "print (man_on_moon)"
   ]
  },
  {
   "cell_type": "markdown",
   "metadata": {},
   "source": [
    "## **DATETIME.STRPTIME CONSTRUCTOR**\n",
    "\n",
    "- In our dataset, we have the 2nd, 3rd and 4th columns containing the date/time data. Because this is the area of focus in this lesson, we need to examine these columns carefully and determine the structure and nature of the date/time information contained within the columns.\n",
    "\n",
    "\n",
    "- However, we would need more than just looking at our dataset to determine their nature because for the date, we do not know the arrangement format - either dd/mm/yr or mm/dd/yr - and for the time, we need to know whether it is structured in the 12-hour or 24-hour format.\n",
    "\n",
    "\n",
    "- To be sure of the structure of the information contained within the columns, we need to print a substantial number of the columns in the dataset. Let us do this:"
   ]
  },
  {
   "cell_type": "code",
   "execution_count": 4,
   "metadata": {},
   "outputs": [
    {
     "name": "stdout",
     "output_type": "stream",
     "text": [
      "12/18/15 16:30\n"
     ]
    }
   ],
   "source": [
    "print (potus[-1][2])"
   ]
  },
  {
   "cell_type": "markdown",
   "metadata": {},
   "source": [
    "- The above information shows us that our dates are structured in the month/date/year format and the time is formatted using the 24-hour time structure.\n",
    "\n",
    "\n",
    "- So, we can now make use of our previous knowledge to split the values into datetime objects and converting the variables into numeric formats. We would ordinarily use the manual method of splitting the strings but this is where the `datetime.strptime()` function comes in handy. In the lesson titled [Object Oriented Python](https://github.com/Tess-hacker/Object-Oriented-Python), you were taught that the `__init__()` method is known sometimes as the constructor. \n",
    "\n",
    "\n",
    "- The classes that exist within a module can contain several constructors that can be used to acheive certain actions within your codes. Similarly, the `datetime` class has a constructor which we can use to split our variables accordingly.\n",
    "\n",
    "\n",
    "- The `datetime.strptime` constructor contains a class/ special syntax system called the `strftime()` whose function is to describe date/time formats. The syntax uses format codes such as the '%' character followed by a single character to specify the date and/or time format which we want.\n",
    "\n",
    "\n",
    "- The first argument of the `datetime.strptime` constructor is **the string that we want to parse** while the second is **a string that specifies the format.** Let me show you a demonstration:"
   ]
  },
  {
   "cell_type": "code",
   "execution_count": 5,
   "metadata": {},
   "outputs": [
    {
     "name": "stdout",
     "output_type": "stream",
     "text": [
      "<class 'datetime.datetime'>\n",
      "2015-12-18 00:00:00\n"
     ]
    }
   ],
   "source": [
    "parse = dt.datetime.strptime(\"18/12/15\",\"%d/%m/%y\") #where 'd','m', and 'y' stand for date, month and year respectively.\n",
    "print(type(parse))\n",
    "print (parse)"
   ]
  },
  {
   "cell_type": "markdown",
   "metadata": {},
   "source": [
    "- **Pay attention** that if you pass a string which is not arranged in the format which you have passed in the second argument, then, an error will be returned. So, be sure to ascertain that your string before you run the codes.  Let's demonstrate this below:"
   ]
  },
  {
   "cell_type": "code",
   "execution_count": 6,
   "metadata": {},
   "outputs": [
    {
     "ename": "ValueError",
     "evalue": "time data '12/18/15' does not match format '%d/%m/%y'",
     "output_type": "error",
     "traceback": [
      "\u001b[1;31m---------------------------------------------------------------------------\u001b[0m",
      "\u001b[1;31mValueError\u001b[0m                                Traceback (most recent call last)",
      "\u001b[1;32m<ipython-input-6-c55c78964cd7>\u001b[0m in \u001b[0;36m<module>\u001b[1;34m\u001b[0m\n\u001b[1;32m----> 1\u001b[1;33m \u001b[0mwrong_parse\u001b[0m \u001b[1;33m=\u001b[0m \u001b[0mdt\u001b[0m\u001b[1;33m.\u001b[0m\u001b[0mdatetime\u001b[0m\u001b[1;33m.\u001b[0m\u001b[0mstrptime\u001b[0m\u001b[1;33m(\u001b[0m\u001b[1;34m\"12/18/15\"\u001b[0m\u001b[1;33m,\u001b[0m\u001b[1;34m\"%d/%m/%y\"\u001b[0m\u001b[1;33m)\u001b[0m \u001b[1;31m#where 'd','m', and 'y' stand for date, month and year respectively.\u001b[0m\u001b[1;33m\u001b[0m\u001b[1;33m\u001b[0m\u001b[0m\n\u001b[0m\u001b[0;32m      2\u001b[0m \u001b[0mprint\u001b[0m\u001b[1;33m(\u001b[0m\u001b[0mtype\u001b[0m\u001b[1;33m(\u001b[0m\u001b[0mwrong_parse\u001b[0m\u001b[1;33m)\u001b[0m\u001b[1;33m)\u001b[0m\u001b[1;33m\u001b[0m\u001b[1;33m\u001b[0m\u001b[0m\n\u001b[0;32m      3\u001b[0m \u001b[0mprint\u001b[0m \u001b[1;33m(\u001b[0m\u001b[0mwrong_parse\u001b[0m\u001b[1;33m)\u001b[0m\u001b[1;33m\u001b[0m\u001b[1;33m\u001b[0m\u001b[0m\n",
      "\u001b[1;32m~\\anaconda3\\lib\\_strptime.py\u001b[0m in \u001b[0;36m_strptime_datetime\u001b[1;34m(cls, data_string, format)\u001b[0m\n\u001b[0;32m    575\u001b[0m     \"\"\"Return a class cls instance based on the input string and the\n\u001b[0;32m    576\u001b[0m     format string.\"\"\"\n\u001b[1;32m--> 577\u001b[1;33m     \u001b[0mtt\u001b[0m\u001b[1;33m,\u001b[0m \u001b[0mfraction\u001b[0m\u001b[1;33m,\u001b[0m \u001b[0mgmtoff_fraction\u001b[0m \u001b[1;33m=\u001b[0m \u001b[0m_strptime\u001b[0m\u001b[1;33m(\u001b[0m\u001b[0mdata_string\u001b[0m\u001b[1;33m,\u001b[0m \u001b[0mformat\u001b[0m\u001b[1;33m)\u001b[0m\u001b[1;33m\u001b[0m\u001b[1;33m\u001b[0m\u001b[0m\n\u001b[0m\u001b[0;32m    578\u001b[0m     \u001b[0mtzname\u001b[0m\u001b[1;33m,\u001b[0m \u001b[0mgmtoff\u001b[0m \u001b[1;33m=\u001b[0m \u001b[0mtt\u001b[0m\u001b[1;33m[\u001b[0m\u001b[1;33m-\u001b[0m\u001b[1;36m2\u001b[0m\u001b[1;33m:\u001b[0m\u001b[1;33m]\u001b[0m\u001b[1;33m\u001b[0m\u001b[1;33m\u001b[0m\u001b[0m\n\u001b[0;32m    579\u001b[0m     \u001b[0margs\u001b[0m \u001b[1;33m=\u001b[0m \u001b[0mtt\u001b[0m\u001b[1;33m[\u001b[0m\u001b[1;33m:\u001b[0m\u001b[1;36m6\u001b[0m\u001b[1;33m]\u001b[0m \u001b[1;33m+\u001b[0m \u001b[1;33m(\u001b[0m\u001b[0mfraction\u001b[0m\u001b[1;33m,\u001b[0m\u001b[1;33m)\u001b[0m\u001b[1;33m\u001b[0m\u001b[1;33m\u001b[0m\u001b[0m\n",
      "\u001b[1;32m~\\anaconda3\\lib\\_strptime.py\u001b[0m in \u001b[0;36m_strptime\u001b[1;34m(data_string, format)\u001b[0m\n\u001b[0;32m    357\u001b[0m     \u001b[1;32mif\u001b[0m \u001b[1;32mnot\u001b[0m \u001b[0mfound\u001b[0m\u001b[1;33m:\u001b[0m\u001b[1;33m\u001b[0m\u001b[1;33m\u001b[0m\u001b[0m\n\u001b[0;32m    358\u001b[0m         raise ValueError(\"time data %r does not match format %r\" %\n\u001b[1;32m--> 359\u001b[1;33m                          (data_string, format))\n\u001b[0m\u001b[0;32m    360\u001b[0m     \u001b[1;32mif\u001b[0m \u001b[0mlen\u001b[0m\u001b[1;33m(\u001b[0m\u001b[0mdata_string\u001b[0m\u001b[1;33m)\u001b[0m \u001b[1;33m!=\u001b[0m \u001b[0mfound\u001b[0m\u001b[1;33m.\u001b[0m\u001b[0mend\u001b[0m\u001b[1;33m(\u001b[0m\u001b[1;33m)\u001b[0m\u001b[1;33m:\u001b[0m\u001b[1;33m\u001b[0m\u001b[1;33m\u001b[0m\u001b[0m\n\u001b[0;32m    361\u001b[0m         raise ValueError(\"unconverted data remains: %s\" %\n",
      "\u001b[1;31mValueError\u001b[0m: time data '12/18/15' does not match format '%d/%m/%y'"
     ]
    }
   ],
   "source": [
    "wrong_parse = dt.datetime.strptime(\"12/18/15\",\"%d/%m/%y\") #where 'd','m', and 'y' stand for date, month and year respectively.\n",
    "print(type(wrong_parse))\n",
    "print (wrong_parse)"
   ]
  },
  {
   "cell_type": "markdown",
   "metadata": {},
   "source": [
    "- In the case where we want to replace the separator in the second argument of the function from a slash(/) to a dash(-), we can totally do that and we would get the same result. Where we enter the first argument in a different format - say month/day/year - we would still get a result in the year/month/date format.\n",
    "\n",
    "\n",
    "- There are also other formats through which this function can be used and you can find its [documentation here](https://docs.python.org/3/library/datetime.html#strftime-strptime-behavior). This is also shown below:\n",
    "\n",
    "| **Strftime Code** | **Meaning** | **Examples** |\n",
    "| --- | --- | --- |\n",
    "| `%d` | Day of the month as a zero-padded number | `04` |\n",
    "| `%A` | Day of the week as a word | `Monday` |\n",
    "| `%m` | Month as a zero-padded number | `09` |\n",
    "| `%Y` | Year as a four-digit number | `1901` |\n",
    "| `%y` | Year as a two-digit number with zero-padding | `01` (2001) |\n",
    "|  |  | `88` (1988) |\n",
    "| `%B` | Month as a word | `September` |\n",
    "| `%H` | Hour in 24 hour time as zero-padded number | `05` (5 a.m.) |\n",
    "|  |  | `15` (3 p.m.) |\n",
    "| `%p` | a.m. or p.m. | `AM` |\n",
    "| `%I` | Hour in 12 hour time as zero-padded number | `05` (5 a.m., or 5 p.m. if `AM`/`PM` indicates otherwise) |\n",
    "| `%M` | Minute as a zero-padded number | `07` |\n",
    "\n",
    "\n",
    "- For rows 1,3,5,7,9, and 10: The `strptime` parser will parse non-zero padded numbers without raising an error.\n",
    "\n",
    "\n",
    "- For rows 2,6,and 8: The Date parts containing words will be interpreted using the locale settings on your computer, so `strptime` won't be able to parse \"febrero\" (\"February\" in Spanish) if your locale is set to an English language locale.\n",
    "\n",
    "\n",
    "- For row 5: The year values from 00-68 will be interpreted as 2000-2068 while values from 70-99 are interpreted as 1970-1999.\n",
    "\n",
    "\n",
    "- Now, let us make use of this technique to convert the date values in the second column of the dataset (`app_start_date`) to datetime objects:"
   ]
  },
  {
   "cell_type": "code",
   "execution_count": 8,
   "metadata": {},
   "outputs": [
    {
     "name": "stdout",
     "output_type": "stream",
     "text": [
      "2015-12-18 16:30:00\n"
     ]
    }
   ],
   "source": [
    "strptime_format = \"%m/%d/%y %H:%M\" #the strptime format which our string is structured \n",
    "for row in potus: # iterate over the dataset\n",
    "    app_start_date = row[2] # assign the target row to a variable\n",
    "    app_start_date = dt.datetime.strptime(app_start_date, strptime_format)\n",
    "    row[2] = app_start_date\n",
    "print (app_start_date)"
   ]
  },
  {
   "cell_type": "markdown",
   "metadata": {},
   "source": [
    "- The `datetime` class has certain attributes which allows us to extract certain datetime information from our dataset. These attributes include:\n",
    "\n",
    "    - `datetime.day` : To extract the day of the month.\n",
    "    \n",
    "    - `datetime.month` : To extract the month of the year.\n",
    "    \n",
    "    - `datetime.year` : To extract the year itself.\n",
    "    \n",
    "    - `datetime.hour` : To extract the hour of the day.\n",
    "    \n",
    "    - `datetime.minute` : To extract the minute of the hour.\n",
    "    \n",
    "    \n",
    "- If we wanted to replicate a datetime format similar to the one we just created using the `strptime` function, we would need to use these attributes. However, having to write a code to construct the datetime string using these attributes individually would be inefficient which is why the `strptime` function comes in handy.\n",
    "\n",
    "\n",
    "- Kindly note that it is easy to confuse the `strftime` constructor with the `strptime` function. So, an efficient way to address and avoid this occassion is to differentiate them as follows:\n",
    "\n",
    "    - `strptime` is a combination of 'str-P-time' meaning **string parse time**\n",
    "    \n",
    "    - `strftime` is a combination of 'str-F-time' meaning **string format time**\n",
    "    \n",
    "    \n",
    "- With the `strftime` constructor, we can format our datetime variables using any of the formats shown in the table above. Now, let us create a formatted frequency table in order to analyse the appointment dates shown in the dataset. With our result, we would be able to **ascertain the number of appointments that fell within each month period for the year**."
   ]
  },
  {
   "cell_type": "code",
   "execution_count": 9,
   "metadata": {},
   "outputs": [
    {
     "name": "stdout",
     "output_type": "stream",
     "text": [
      "{'January, 2015': 1248, 'February, 2015': 2165, 'March, 2015': 2262, 'April, 2015': 4996, 'May, 2015': 3013, 'June, 2015': 7743, 'July, 2015': 2930, 'August, 2015': 1350, 'September, 2015': 4416, 'October, 2015': 3669, 'November, 2015': 1133, 'December, 2015': 13029}\n"
     ]
    }
   ],
   "source": [
    "strftime_format = \"%B, %Y\"\n",
    "visitors_per_month = {}\n",
    "for row in potus:\n",
    "    app_start_date = row[2]\n",
    "    app_start_date = app_start_date.strftime(strftime_format)\n",
    "    if app_start_date not in visitors_per_month:\n",
    "        visitors_per_month[app_start_date] = 1\n",
    "    else:\n",
    "        visitors_per_month[app_start_date] += 1\n",
    "print (visitors_per_month)"
   ]
  },
  {
   "cell_type": "markdown",
   "metadata": {},
   "source": [
    "## **THE TIME CLASS**\n",
    "\n",
    "\n",
    "- As discussed earlier, I stated that the `datetime` class contains characteristics/functions that hold values for dates and times. However, in the case of the `time` class, it only holds the time data i.e. minutes, seconds, microseconds and hours. \n",
    "\n",
    "\n",
    "- To instantiate the `time` class, we use: `datetime.time()` syntax. The class arguments are arranged in order as follows:\n",
    "\n",
    "    - *hour*\n",
    "    \n",
    "    - *minute*\n",
    "    \n",
    "    - *second*\n",
    "    \n",
    "    - *microsecond*\n",
    "    \n",
    "    \n",
    "- So, if we instantiate the class without passing in the arguments in their specified order, they are automatically placed according to the fundamental order.\n",
    "\n",
    "\n",
    "- We can also create a `time` object from a `datetime.datetime` function using the syntax `datetime.datetime.time()`. \n",
    "\n",
    "\n",
    "- Be informed that the `time` class does not have the `strptime()` constructor but where this constructor is needed, we can use the `datetime.strptime` function and then convert it to a `time` object after. \n",
    "\n",
    "\n",
    "- Just like the `datetime` class, the `time` class contains similar functions of extracting individual values from the `time` class syntax. For instance, we can write the function: `time.hour()`, `time.minute()` and so on. \n",
    "\n",
    "\n",
    "- Let us now go ahead and apply this to the *potus* data."
   ]
  },
  {
   "cell_type": "code",
   "execution_count": 12,
   "metadata": {},
   "outputs": [
    {
     "name": "stdout",
     "output_type": "stream",
     "text": [
      "[datetime.time(9, 30), datetime.time(9, 30), datetime.time(9, 30), datetime.time(9, 30), datetime.time(9, 30), datetime.time(9, 30), datetime.time(9, 30), datetime.time(9, 30), datetime.time(9, 30), datetime.time(9, 30), datetime.time(9, 30), datetime.time(9, 30), datetime.time(9, 30), datetime.time(9, 30), datetime.time(9, 30), datetime.time(9, 30), datetime.time(9, 30), datetime.time(9, 30), datetime.time(9, 30), datetime.time(9, 30), datetime.time(9, 30), datetime.time(9, 30), datetime.time(9, 30), datetime.time(9, 30), datetime.time(9, 30), datetime.time(9, 30), datetime.time(9, 30), datetime.time(9, 30), datetime.time(9, 30), datetime.time(9, 30)]\n"
     ]
    }
   ],
   "source": [
    "appt_times = []\n",
    "for row in potus:\n",
    "    datetime_variable = row[2]\n",
    "    time_object = datetime_variable.time()\n",
    "    appt_times.append(time_object)\n",
    "print (appt_times[:30]) # reducing our output for efficiency sake"
   ]
  },
  {
   "cell_type": "markdown",
   "metadata": {},
   "source": [
    "### **Comparing `Time` Objects**\n",
    "\n",
    "\n",
    "- Another good feature of the `time` class is that we can compare time objects with one another to know the maximum and minimum values. Since the class supports comparisons, the in-built Python functions of `min()` and `max()` are compatible with this class.\n",
    "\n",
    "\n",
    "- We would now assign the minimum and maximum time values which we have created to specific variables. This will enable us to calculate the **earliest appointment time** and **latest appointment time** for all the visits to the potus."
   ]
  },
  {
   "cell_type": "code",
   "execution_count": 14,
   "metadata": {},
   "outputs": [
    {
     "name": "stdout",
     "output_type": "stream",
     "text": [
      "06:00:00\n",
      "21:30:00\n"
     ]
    }
   ],
   "source": [
    "min_appointmenttime = min(appt_times)\n",
    "max_appointmenttime = max(appt_times)\n",
    "print (min_appointmenttime)\n",
    "print (max_appointmenttime)"
   ]
  },
  {
   "cell_type": "markdown",
   "metadata": {},
   "source": [
    "## **CALCULATIONS WITH DATES AND TIMES**\n",
    "\n",
    "\n",
    "- Like I stated above, the `time()` objects support comparisons; so do the `datetime()` objects. This means that the mathematical comparison operators such as `< > + - =` and so on can be used with the `datetime()` objects. However, we find out that using these operators directly could return an error. \n",
    "\n",
    "\n",
    "- In the case where we use the `-` operator, the result type we get we get is the `datetime.timedelta` object. Recall that this is one of the objects under the `datetime` class which I have listed in the introductory part of the lesson. \n",
    "\n",
    "\n",
    "- The `timedelta()` object represents **a period of time** compared with other classes which only refer to a peculiar moment in time. To instantiate the `timedelta` type, the following syntax is used:\n",
    "\n",
    "    `datetime.timedelta(days=0, seconds=0, microseconds=0, milliseconds=0, minutes=0, hours=0, weeks=0)`\n",
    "\n",
    "\n",
    "- Since the syntax does not follow a conventional format, it is important to specify which argument we are assigning a value to within the function to avoid cases of syntax errors. \n",
    "\n",
    "\n",
    "- Below are the different operations possible between the `datetime()` and the `timedelta()` objects:\n",
    "\n",
    "| **Operation** | **Explanation** | **Resultant Type** |\n",
    "| --- | --- | --- |\n",
    "| `datetime-datetime` | Calculate the time between two specific dates/times | timedelta |\n",
    "| `datetime-timedelta` | Subtract a time period from a date or time | datetime |\n",
    "| `datetime+timedelta` | Add a time period to a date or time | datetime |\n",
    "| `timedelta+timedelta` | Add two periods of time together | timedelta |\n",
    "| `timedelta-timedelta` | Calculate the difference between two time periods | timedelta |\n",
    "\n",
    "- *Note that the `datetime` object in the table can be substituted with the `time` objects*.\n",
    "\n",
    "\n",
    "- Let us experiment with this syntax in the following codes:"
   ]
  },
  {
   "cell_type": "code",
   "execution_count": 17,
   "metadata": {},
   "outputs": [
    {
     "name": "stdout",
     "output_type": "stream",
     "text": [
      "The resulting number of days is:\n",
      "5 days, 0:00:00\n",
      "\n",
      "\n",
      "The resulting number of weeks is:\n",
      "70 days, 0:00:00\n",
      "\n",
      "\n",
      "The resulting number of hours and minutes is:\n",
      "2:30:00\n",
      "\n",
      "\n",
      "The weeks increased by 2 weeks is:\n",
      "2000-11-04\n",
      "\n",
      "\n",
      "The subtraction of dt_2 from dt_1 is:\n",
      "1244 days, 0:00:00\n",
      "\n",
      "\n",
      "The addition of 56 days to dt_3 is:\n",
      "2016-07-19 00:00:00\n",
      "\n",
      "\n",
      "The subtraction of 3600 seconds from dt_4 is:\n",
      "2001-01-01 07:24:13\n"
     ]
    }
   ],
   "source": [
    "five_days = dt.timedelta(5)\n",
    "print ('The resulting number of days is:')\n",
    "print (five_days)\n",
    "print ('\\n')\n",
    "ten_weeks = dt.timedelta(weeks = 10)\n",
    "print ('The resulting number of weeks is:')\n",
    "print (ten_weeks)\n",
    "print ('\\n')\n",
    "two_hours_thirty_minutes = dt.timedelta(hours = 2, minutes = 30)\n",
    "print ('The resulting number of hours and minutes is:')\n",
    "print (two_hours_thirty_minutes)\n",
    "print ('\\n')\n",
    "# we can also use the timedelta to add or subtract time from datetime objects. Let's see this below:\n",
    "date1 = dt.date(2000, 10, 21)\n",
    "date1_plustwoweeks = date1 + dt.timedelta(weeks= 2)\n",
    "print ('The weeks increased by 2 weeks is:')\n",
    "print (date1_plustwoweeks)\n",
    "print ('\\n')\n",
    "\n",
    "dt_1 = dt.datetime(1981, 1, 31)\n",
    "dt_2 = dt.datetime(1984, 6, 28)\n",
    "dt_3 = dt.datetime(2016, 5, 24)\n",
    "dt_4 = dt.datetime(2001, 1, 1, 8, 24, 13)\n",
    "dt_2minus_dt_1 = dt_2 - dt_1\n",
    "dt_3plus_fiftysixdays = dt_3 + dt.timedelta(days = 56)\n",
    "dt_4minus_3600seconds = dt_4 - dt.timedelta(seconds = 3600)\n",
    "print ('The subtraction of dt_2 from dt_1 is:')\n",
    "print (dt_2minus_dt_1)\n",
    "print ('\\n')\n",
    "print ('The addition of 56 days to dt_3 is:')\n",
    "print (dt_3plus_fiftysixdays)\n",
    "print ('\\n')\n",
    "print ('The subtraction of 3600 seconds from dt_4 is:')\n",
    "print (dt_4minus_3600seconds)"
   ]
  },
  {
   "cell_type": "markdown",
   "metadata": {},
   "source": [
    "## **SUMMARIZING APPOINTMENT LENGTHS**\n",
    "\n",
    "\n",
    "- The final task under this lesson is to calculate summarized values of the appointment times of each visitor to the potus using the `datetime` function and the types contained under it.\n",
    "\n",
    "\n",
    "- Our task is to create a frequency table using a for loop to get the meeting length of each visitor and invariably use the `min` and `max` functions to detect the values for the shortest and longest appointment times."
   ]
  },
  {
   "cell_type": "code",
   "execution_count": 36,
   "metadata": {
    "collapsed": true,
    "jupyter": {
     "outputs_hidden": true
    }
   },
   "outputs": [
    {
     "name": "stdout",
     "output_type": "stream",
     "text": [
      "{datetime.timedelta(seconds=52140): 1213, datetime.timedelta(seconds=50340): 1543, datetime.timedelta(seconds=48540): 696, datetime.timedelta(seconds=46740): 681, datetime.timedelta(seconds=44940): 357, datetime.timedelta(seconds=41340): 1115, datetime.timedelta(seconds=53940): 511, datetime.timedelta(seconds=17940): 301, datetime.timedelta(seconds=47040): 2, datetime.timedelta(seconds=43140): 1041, datetime.timedelta(seconds=39540): 1548, datetime.timedelta(seconds=37740): 5897, datetime.timedelta(seconds=35940): 996, datetime.timedelta(seconds=34140): 921, datetime.timedelta(seconds=21540): 8173, datetime.timedelta(seconds=30540): 2855, datetime.timedelta(seconds=28740): 2027, datetime.timedelta(seconds=32340): 862, datetime.timedelta(seconds=49140): 12, datetime.timedelta(seconds=24240): 103, datetime.timedelta(seconds=44040): 39, datetime.timedelta(seconds=42840): 6, datetime.timedelta(seconds=35040): 119, datetime.timedelta(seconds=32640): 13, datetime.timedelta(seconds=42240): 32, datetime.timedelta(seconds=25140): 930, datetime.timedelta(seconds=23940): 16, datetime.timedelta(seconds=23340): 457, datetime.timedelta(seconds=55740): 395, datetime.timedelta(seconds=26940): 1144, datetime.timedelta(seconds=61140): 1768, datetime.timedelta(seconds=59340): 818, datetime.timedelta(seconds=57540): 460, datetime.timedelta(seconds=29640): 23, datetime.timedelta(seconds=22440): 38, datetime.timedelta(seconds=19740): 985, datetime.timedelta(seconds=17040): 17, datetime.timedelta(seconds=16140): 99, datetime.timedelta(seconds=14340): 185, datetime.timedelta(seconds=12540): 22, datetime.timedelta(seconds=27840): 69, datetime.timedelta(seconds=31140): 36, datetime.timedelta(seconds=35340): 9, datetime.timedelta(seconds=33240): 1434, datetime.timedelta(seconds=39840): 1, datetime.timedelta(seconds=39000): 1, datetime.timedelta(seconds=38340): 36, datetime.timedelta(seconds=25440): 5, datetime.timedelta(seconds=47640): 347, datetime.timedelta(seconds=43740): 4, datetime.timedelta(seconds=38640): 272, datetime.timedelta(seconds=23640): 24, datetime.timedelta(seconds=53040): 6, datetime.timedelta(seconds=8940): 9, datetime.timedelta(seconds=24840): 6, datetime.timedelta(seconds=45840): 3, datetime.timedelta(seconds=20640): 390, datetime.timedelta(seconds=60240): 40, datetime.timedelta(seconds=54840): 249, datetime.timedelta(seconds=31440): 3732, datetime.timedelta(seconds=20340): 4, datetime.timedelta(seconds=20220): 1, datetime.timedelta(seconds=20160): 1, datetime.timedelta(seconds=19560): 1, datetime.timedelta(seconds=19020): 1, datetime.timedelta(seconds=51240): 220, datetime.timedelta(seconds=45540): 7, datetime.timedelta(seconds=26040): 224, datetime.timedelta(seconds=40440): 921, datetime.timedelta(seconds=32040): 18, datetime.timedelta(seconds=31860): 1, datetime.timedelta(seconds=42480): 1, datetime.timedelta(seconds=41820): 1, datetime.timedelta(seconds=41700): 1, datetime.timedelta(seconds=41520): 1, datetime.timedelta(seconds=36660): 1, datetime.timedelta(seconds=36420): 1, datetime.timedelta(seconds=36240): 1, datetime.timedelta(seconds=35760): 1, datetime.timedelta(seconds=35400): 1, datetime.timedelta(seconds=27540): 1, datetime.timedelta(seconds=64740): 256, datetime.timedelta(seconds=59040): 1, datetime.timedelta(seconds=57600): 1, datetime.timedelta(seconds=57180): 1, datetime.timedelta(seconds=56220): 1, datetime.timedelta(seconds=55440): 1, datetime.timedelta(seconds=17760): 1, datetime.timedelta(seconds=30960): 1, datetime.timedelta(seconds=29040): 10, datetime.timedelta(seconds=32940): 8, datetime.timedelta(seconds=37440): 4, datetime.timedelta(seconds=30840): 11, datetime.timedelta(seconds=36540): 167, datetime.timedelta(seconds=36840): 344, datetime.timedelta(seconds=35220): 3, datetime.timedelta(seconds=40140): 2, datetime.timedelta(seconds=39780): 1, datetime.timedelta(seconds=39600): 2, datetime.timedelta(seconds=39240): 1, datetime.timedelta(seconds=38460): 1, datetime.timedelta(seconds=38040): 2, datetime.timedelta(seconds=37140): 1, datetime.timedelta(seconds=36720): 1, datetime.timedelta(seconds=49740): 2, datetime.timedelta(seconds=49440): 65, datetime.timedelta(seconds=48840): 13, datetime.timedelta(seconds=41220): 2, datetime.timedelta(seconds=40740): 2, datetime.timedelta(seconds=40380): 2, datetime.timedelta(seconds=38940): 1, datetime.timedelta(seconds=26340): 12, datetime.timedelta(seconds=10740): 11, datetime.timedelta(seconds=22740): 4, datetime.timedelta(seconds=22140): 4, datetime.timedelta(seconds=21840): 1, datetime.timedelta(seconds=21720): 1, datetime.timedelta(seconds=21600): 2, datetime.timedelta(seconds=21240): 1, datetime.timedelta(seconds=18840): 27, datetime.timedelta(seconds=41940): 4, datetime.timedelta(seconds=28140): 176, datetime.timedelta(seconds=30660): 2, datetime.timedelta(seconds=30240): 2, datetime.timedelta(seconds=29220): 1, datetime.timedelta(seconds=29100): 3, datetime.timedelta(seconds=28860): 1, datetime.timedelta(seconds=28380): 1, datetime.timedelta(seconds=27420): 1, datetime.timedelta(seconds=26640): 11, datetime.timedelta(seconds=45240): 1, datetime.timedelta(seconds=18540): 11, datetime.timedelta(seconds=15240): 4, datetime.timedelta(seconds=13440): 1, datetime.timedelta(seconds=51840): 1, datetime.timedelta(seconds=27240): 8, datetime.timedelta(seconds=32400): 1, datetime.timedelta(seconds=32100): 1, datetime.timedelta(seconds=31920): 2, datetime.timedelta(seconds=31740): 5, datetime.timedelta(seconds=31380): 2, datetime.timedelta(seconds=31200): 2, datetime.timedelta(seconds=30720): 3, datetime.timedelta(seconds=29940): 3, datetime.timedelta(seconds=29400): 3, datetime.timedelta(seconds=29160): 1, datetime.timedelta(seconds=34740): 6, datetime.timedelta(seconds=23040): 17, datetime.timedelta(seconds=33000): 1, datetime.timedelta(seconds=25740): 3, datetime.timedelta(seconds=44220): 2, datetime.timedelta(seconds=24540): 7, datetime.timedelta(seconds=35520): 1, datetime.timedelta(seconds=62940): 32, datetime.timedelta(seconds=19140): 6, datetime.timedelta(seconds=18420): 1, datetime.timedelta(seconds=31320): 1, datetime.timedelta(seconds=16740): 1, datetime.timedelta(seconds=29340): 4, datetime.timedelta(seconds=34860): 1, datetime.timedelta(seconds=32280): 16, datetime.timedelta(seconds=25980): 1, datetime.timedelta(days=16, seconds=46740): 102, datetime.timedelta(seconds=34440): 2, datetime.timedelta(seconds=21300): 1, datetime.timedelta(seconds=20760): 1, datetime.timedelta(seconds=20040): 1, datetime.timedelta(seconds=19860): 1, datetime.timedelta(seconds=19440): 2, datetime.timedelta(seconds=18240): 1, datetime.timedelta(seconds=18120): 2, datetime.timedelta(seconds=33540): 6, datetime.timedelta(seconds=21120): 1, datetime.timedelta(seconds=19980): 1, datetime.timedelta(seconds=19920): 1, datetime.timedelta(seconds=17640): 2, datetime.timedelta(seconds=17340): 4, datetime.timedelta(seconds=14940): 1, datetime.timedelta(seconds=13740): 1}\n",
      "2:29:00\n",
      "16 days, 12:59:00\n"
     ]
    }
   ],
   "source": [
    "# #  first, we need to create a code which converts the appointment end date to a datetime object\n",
    "# for row in potus:\n",
    "#     end_date = row[3]\n",
    "#     end_date = dt.datetime.strptime(str(end_date), \"%Y/%m/%d %H:%M:%S\")\n",
    "#     row[3] = end_date\n",
    "appointment_lengths = {} #  now we create an empty dictionary for the frequency table\n",
    "for row in potus: # Now we loop over each rows to assign our individual values to the empty dictionary\n",
    "    start_date = row[2]\n",
    "    end_date = row[3]\n",
    "    length = end_date - start_date\n",
    "    if length not in appointment_lengths:\n",
    "        appointment_lengths[length] = 1\n",
    "    else:\n",
    "        appointment_lengths[length] += 1\n",
    "min_length = min (appointment_lengths)\n",
    "max_length = max (appointment_lengths)\n",
    "print (appointment_lengths)\n",
    "print (min_length)\n",
    "print (max_length)"
   ]
  },
  {
   "cell_type": "markdown",
   "metadata": {},
   "source": [
    "## **CONCLUSION**\n",
    "\n",
    "- So far, we have learnt how to work on complex operations in the time and date ambit of the appointments with the potus.\n",
    "\n",
    "\n",
    "- Now, you should go and practice further and see your possessed skillset."
   ]
  }
 ],
 "metadata": {
  "kernelspec": {
   "display_name": "Python 3",
   "language": "python",
   "name": "python3"
  },
  "language_info": {
   "codemirror_mode": {
    "name": "ipython",
    "version": 3
   },
   "file_extension": ".py",
   "mimetype": "text/x-python",
   "name": "python",
   "nbconvert_exporter": "python",
   "pygments_lexer": "ipython3",
   "version": "3.7.6"
  }
 },
 "nbformat": 4,
 "nbformat_minor": 4
}
